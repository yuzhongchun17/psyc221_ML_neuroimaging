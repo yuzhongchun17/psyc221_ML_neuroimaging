{
 "cells": [
  {
   "cell_type": "code",
   "execution_count": 2,
   "metadata": {},
   "outputs": [],
   "source": [
    "import numpy as np"
   ]
  },
  {
   "cell_type": "code",
   "execution_count": 3,
   "metadata": {},
   "outputs": [
    {
     "data": {
      "text/plain": [
       "array([[ 1.00000000e+00,  5.55325304e-01,  8.63112579e-01,\n",
       "        -8.66089809e-01, -7.03575254e-17],\n",
       "       [ 5.55325304e-01,  1.00000000e+00,  8.28252320e-01,\n",
       "        -8.37218358e-01, -3.09833033e-17],\n",
       "       [ 8.63112579e-01,  8.28252320e-01,  1.00000000e+00,\n",
       "        -9.89290681e-01,  0.00000000e+00],\n",
       "       [-8.66089809e-01, -8.37218358e-01, -9.89290681e-01,\n",
       "         1.00000000e+00, -1.48029737e-16],\n",
       "       [-7.03575254e-17, -3.09833033e-17,  0.00000000e+00,\n",
       "        -1.48029737e-16,  1.00000000e+00]])"
      ]
     },
     "execution_count": 3,
     "metadata": {},
     "output_type": "execute_result"
    }
   ],
   "source": [
    "# BOLD signals for each region\n",
    "region_A = np.array([0.3, 0.5, 0.4, 0.6, 0.7, 0.8, 0.6, 0.5, 0.4, 0.3])\n",
    "region_B = np.array([0.6, 0.7, 0.8, 0.9, 0.8, 0.7, 0.6, 0.5, 0.4, 0.3])\n",
    "region_C = np.array([0.2, 0.4, 0.5, 0.7, 0.9, 0.7, 0.5, 0.3, 0.2, 0.1])\n",
    "region_D = np.array([0.8, 0.7, 0.6, 0.5, 0.4, 0.5, 0.6, 0.7, 0.8, 0.9])\n",
    "region_E = np.array([0.3, 0.3, 0.3, 0.3, 0.3, 0.3, 0.3, 0.3, 0.3, 0.3])\n",
    "\n",
    "# Calculating pairwise correlations\n",
    "correlation_matrix = np.corrcoef([region_A, region_B, region_C, region_D, region_E])\n",
    "\n",
    "correlation_matrix\n",
    "\n"
   ]
  }
 ],
 "metadata": {
  "kernelspec": {
   "display_name": "Python 3",
   "language": "python",
   "name": "python3"
  },
  "language_info": {
   "codemirror_mode": {
    "name": "ipython",
    "version": 3
   },
   "file_extension": ".py",
   "mimetype": "text/x-python",
   "name": "python",
   "nbconvert_exporter": "python",
   "pygments_lexer": "ipython3",
   "version": "3.10.7"
  }
 },
 "nbformat": 4,
 "nbformat_minor": 2
}
