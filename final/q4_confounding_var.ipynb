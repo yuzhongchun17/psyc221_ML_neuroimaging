{
 "cells": [
  {
   "cell_type": "code",
   "execution_count": 1,
   "metadata": {},
   "outputs": [
    {
     "data": {
      "text/html": [
       "<div>\n",
       "<style scoped>\n",
       "    .dataframe tbody tr th:only-of-type {\n",
       "        vertical-align: middle;\n",
       "    }\n",
       "\n",
       "    .dataframe tbody tr th {\n",
       "        vertical-align: top;\n",
       "    }\n",
       "\n",
       "    .dataframe thead th {\n",
       "        text-align: right;\n",
       "    }\n",
       "</style>\n",
       "<table border=\"1\" class=\"dataframe\">\n",
       "  <thead>\n",
       "    <tr style=\"text-align: right;\">\n",
       "      <th></th>\n",
       "      <th>sum_sq</th>\n",
       "      <th>df</th>\n",
       "      <th>F</th>\n",
       "      <th>PR(&gt;F)</th>\n",
       "    </tr>\n",
       "  </thead>\n",
       "  <tbody>\n",
       "    <tr>\n",
       "      <th>C(Diagnosis_Label)</th>\n",
       "      <td>0.002133</td>\n",
       "      <td>1.0</td>\n",
       "      <td>1.625000</td>\n",
       "      <td>0.224710</td>\n",
       "    </tr>\n",
       "    <tr>\n",
       "      <th>C(Sex)</th>\n",
       "      <td>0.022533</td>\n",
       "      <td>1.0</td>\n",
       "      <td>17.164062</td>\n",
       "      <td>0.001156</td>\n",
       "    </tr>\n",
       "    <tr>\n",
       "      <th>Residual</th>\n",
       "      <td>0.017067</td>\n",
       "      <td>13.0</td>\n",
       "      <td>NaN</td>\n",
       "      <td>NaN</td>\n",
       "    </tr>\n",
       "  </tbody>\n",
       "</table>\n",
       "</div>"
      ],
      "text/plain": [
       "                      sum_sq    df          F    PR(>F)\n",
       "C(Diagnosis_Label)  0.002133   1.0   1.625000  0.224710\n",
       "C(Sex)              0.022533   1.0  17.164062  0.001156\n",
       "Residual            0.017067  13.0        NaN       NaN"
      ]
     },
     "execution_count": 1,
     "metadata": {},
     "output_type": "execute_result"
    }
   ],
   "source": [
    "import pandas as pd\n",
    "import statsmodels.api as sm\n",
    "from statsmodels.formula.api import ols\n",
    "\n",
    "# Given data\n",
    "data = {\n",
    "    'Sex': ['M', 'M', 'M', 'M', 'M', 'M', 'F', 'F', 'F', 'F', 'F', 'F', 'F', 'F', 'M', 'M'],\n",
    "    'Diagnosis_Label': [1, 1, 1, 1, 1, 1, 1, 1, 0, 0, 0, 0, 0, 0, 0, 0],\n",
    "    'FA': [0.61, 0.66, 0.64, 0.59, 0.54, 0.62, 0.49, 0.53, 0.51, 0.55, 0.47, 0.45, 0.52, 0.48, 0.58, 0.56]\n",
    "}\n",
    "\n",
    "# Create a DataFrame\n",
    "df = pd.DataFrame(data)\n",
    "\n",
    "# Convert sex to a binary variable for analysis\n",
    "df['Sex'] = df['Sex'].apply(lambda x: 1 if x == 'M' else 0)\n",
    "\n",
    "# Perform ANCOVA to test if FA measure is significantly different between the diseased group and control group\n",
    "# while controlling for sex\n",
    "model = ols('FA ~ C(Diagnosis_Label) + C(Sex)', data=df).fit()\n",
    "ancova_table = sm.stats.anova_lm(model, typ=2)\n",
    "\n",
    "ancova_table\n"
   ]
  }
 ],
 "metadata": {
  "kernelspec": {
   "display_name": "Python 3",
   "language": "python",
   "name": "python3"
  },
  "language_info": {
   "codemirror_mode": {
    "name": "ipython",
    "version": 3
   },
   "file_extension": ".py",
   "mimetype": "text/x-python",
   "name": "python",
   "nbconvert_exporter": "python",
   "pygments_lexer": "ipython3",
   "version": "3.10.7"
  }
 },
 "nbformat": 4,
 "nbformat_minor": 2
}
