{
 "cells": [
  {
   "cell_type": "code",
   "execution_count": 5,
   "metadata": {},
   "outputs": [],
   "source": [
    "import numpy as np\n",
    "from sklearn.metrics import confusion_matrix, ConfusionMatrixDisplay"
   ]
  },
  {
   "cell_type": "markdown",
   "metadata": {},
   "source": [
    "# Data\n"
   ]
  },
  {
   "cell_type": "code",
   "execution_count": 27,
   "metadata": {},
   "outputs": [],
   "source": [
    "# Given data\n",
    "ground_truth =      np.array([1, 1, 1, 1, 1, 1, 1, 1, 0, 0, 0, 0, 0, 0, 0, 0])\n",
    "model_prediction =  np.array([1, 1, 1, 1, 0, 0, 0, 1, 0, 1, 0, 0, 1, 1, 0, 1])\n",
    "\n",
    "male_ground_truth =         np.array([1, 1, 1, 1, 0, 0, 0, 0])\n",
    "male_model_prediction =     np.array([1, 1, 1, 1, 0, 1, 0, 0])\n",
    "female_ground_truth =       np.array([1, 1, 1, 1, 0, 0, 0, 0])\n",
    "female_model_prediction =   np.array([0, 0, 0, 1, 1, 1, 0, 1])"
   ]
  },
  {
   "cell_type": "markdown",
   "metadata": {},
   "source": [
    "# Confusion matrix"
   ]
  },
  {
   "cell_type": "code",
   "execution_count": 11,
   "metadata": {},
   "outputs": [
    {
     "name": "stdout",
     "output_type": "stream",
     "text": [
      "[[4 4]\n",
      " [3 5]]\n"
     ]
    },
    {
     "data": {
      "text/plain": [
       "<sklearn.metrics._plot.confusion_matrix.ConfusionMatrixDisplay at 0x1ac7e844760>"
      ]
     },
     "execution_count": 11,
     "metadata": {},
     "output_type": "execute_result"
    },
    {
     "data": {
      "image/png": "[encoded data removed]",
      "text/plain": [
       "<Figure size 640x480 with 2 Axes>"
      ]
     },
     "metadata": {},
     "output_type": "display_data"
    }
   ],
   "source": [
    "# Calculate confusion matrix\n",
    "conf_matrix = confusion_matrix(ground_truth, model_prediction)\n",
    "\n",
    "print(conf_matrix)\n",
    "disp = ConfusionMatrixDisplay(conf_matrix)\n",
    "disp.plot()\n",
    "# plt.show()"
   ]
  },
  {
   "cell_type": "markdown",
   "metadata": {},
   "source": [
    "# evaluation metrics"
   ]
  },
  {
   "cell_type": "code",
   "execution_count": 15,
   "metadata": {},
   "outputs": [
    {
     "name": "stdout",
     "output_type": "stream",
     "text": [
      "Accuracy = 0.562\n",
      "Precision = 0.556\n",
      "Recall = 0.625\n",
      "F1 Score = 0.588\n"
     ]
    }
   ],
   "source": [
    "from sklearn.metrics import accuracy_score, precision_score, recall_score, f1_score\n",
    "\n",
    "# Calculate metrics\n",
    "accuracy = accuracy_score(ground_truth, model_prediction)\n",
    "precision = precision_score(ground_truth, model_prediction)\n",
    "recall = recall_score(ground_truth, model_prediction)\n",
    "f1 = f1_score(ground_truth, model_prediction)\n",
    "\n",
    "print(f'Accuracy = {accuracy:.3f}')\n",
    "print(f'Precision = {precision:.3f}')\n",
    "print(f'Recall = {recall:.3f}')\n",
    "print(f'F1 Score = {f1:.3f}')"
   ]
  },
  {
   "cell_type": "markdown",
   "metadata": {},
   "source": [
    "# CHi2"
   ]
  },
  {
   "cell_type": "code",
   "execution_count": 25,
   "metadata": {},
   "outputs": [
    {
     "data": {
      "text/plain": [
       "(0.25, 0.6170750774519739)"
      ]
     },
     "execution_count": 25,
     "metadata": {},
     "output_type": "execute_result"
    }
   ],
   "source": [
    "from scipy.stats import chi2,chisquare\n",
    "correct_predictions = np.sum(ground_truth == model_prediction)\n",
    "\n",
    "# False Positives (FP) + False Negatives (FN)\n",
    "incorrect_predictions = np.sum(ground_truth != model_prediction)\n",
    "observed = [correct_predictions,incorrect_predictions] # model 1\n",
    "expected = [8,8] #random guessing\n",
    "\n",
    "# chi-square statistic & p-value\n",
    "chi2, p_value = chisquare(observed,expected)\n",
    "\n",
    "chi2, p_value"
   ]
  },
  {
   "cell_type": "markdown",
   "metadata": {},
   "source": [
    "# male vs. female"
   ]
  },
  {
   "cell_type": "code",
   "execution_count": 28,
   "metadata": {},
   "outputs": [
    {
     "data": {
      "text/plain": [
       "(4.063492063492063, 0.043819792802674805)"
      ]
     },
     "execution_count": 28,
     "metadata": {},
     "output_type": "execute_result"
    }
   ],
   "source": [
    "from scipy.stats import chi2_contingency\n",
    "\n",
    "# Constructing the contingency table for male and female accuracies\n",
    "# The table will compare the correct and incorrect predictions for each gender\n",
    "contingency_table_gender = np.array([\n",
    "    [np.sum(male_ground_truth == male_model_prediction), np.sum(female_ground_truth == female_model_prediction)],  # Correct predictions\n",
    "    [np.sum(male_ground_truth != male_model_prediction), np.sum(female_ground_truth != female_model_prediction)]   # Incorrect predictions\n",
    "])\n",
    "\n",
    "# Perform the chi-squared test for gender-based accuracy\n",
    "chi2_stat_gender, p_val_gender= chi2_contingency(contingency_table_gender)\n",
    "\n",
    "chi2_stat_gender, p_val_gender\n"
   ]
  },
  {
   "cell_type": "markdown",
   "metadata": {},
   "source": []
  }
 ],
 "metadata": {
  "kernelspec": {
   "display_name": "Python 3",
   "language": "python",
   "name": "python3"
  },
  "language_info": {
   "codemirror_mode": {
    "name": "ipython",
    "version": 3
   },
   "file_extension": ".py",
   "mimetype": "text/x-python",
   "name": "python",
   "nbconvert_exporter": "python",
   "pygments_lexer": "ipython3",
   "version": "3.10.7"
  }
 },
 "nbformat": 4,
 "nbformat_minor": 2
}
