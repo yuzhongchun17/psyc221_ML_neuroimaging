{
  "cells": [
    {
      "cell_type": "markdown",
      "metadata": {
        "id": "VbupO2bS52ju"
      },
      "source": [
        "# **Machine Learning for Neuroimaging 2023 — Assignment 3**"
      ]
    },
    {
      "cell_type": "markdown",
      "metadata": {
        "id": "S6k_SV9veBII"
      },
      "source": [
        "## **ABIDE I Functional Connectome Analysis**\n",
        "\n",
        "You have been provided with a resting-state fMRI connectome dataset of 120 individuals diagnosed with Autism Spectrum Disorder (ASD) and 120 typical controls. Each connectome, i.e., each subject’s brain network and properties, is encoded as an 𝑁-by-𝑁 correlation matrix 𝐌, where $M_{i,j}$ is the functional connectivity (correlation in activation patterns) between region $i$ and region $j$.\n",
        "\n",
        "Note that this is the preprocessed version of ABIDE provided by the Preprocessed Connectome Project (PCP).\n",
        "\n",
        "For more information about this dataset's structure: http://preprocessed-connectomes-project.org/abide/\n",
        "\n",
        "*Cameron Craddock, Yassine Benhajali, Carlton Chu, Francois Chouinard, Alan Evans, András Jakab, Budhachandra Singh Khundrakpam, John David Lewis, Qingyang Li, Michael Milham, Chaogan Yan, Pierre Bellec (2013). The Neuro Bureau Preprocessing Initiative: open sharing of preprocessed neuroimaging data and derivatives. In Neuroinformatics 2013, Stockholm, Sweden.*"
      ]
    },
    {
      "cell_type": "markdown",
      "metadata": {
        "id": "BPUs4Vsp6sap"
      },
      "source": [
        "**Relevant Libraries**\n",
        "*  [NumPy](https://numpy.org/):https For numerical computing and handling multi-dimensional data.\n",
        "*  [Pandas](https://pandas.pydata.org/): For structured data operations and manipulations.\n",
        "*  [Matplotlib](https://matplotlib.org/): For creating static, interactive, and animated visualizations in Python.\n",
        "*  [scikit-learn](https://scikit-learn.org/stable/): For implementing machine learning algorithms.\n",
        "*  [nibabel](https://nipy.org/nibabel/): For reading and writing neuroimaging data formats.\n",
        "*  [nilearn](https://nilearn.github.io/stable/index.html): For advanced neuroimaging data manipulation and visualization.\n",
        "*  [PyTorch Geometric](https://pytorch-geometric.readthedocs.io/en/latest/): For writing and training Graph Neural Networks (GNNs).\n",
        "*  [DGL (Deep Graph Library)](https://www.dgl.ai/): For deep learning on GNNs."
      ]
    },
    {
      "cell_type": "code",
      "execution_count": null,
      "metadata": {
        "cellView": "form",
        "id": "H2ljMMms9tqg"
      },
      "outputs": [],
      "source": [
        "%%capture\n",
        "# @title Run to install needed packages.\n",
        "!pip install nilearn torch torchvision torchaudio torch-geometric"
      ]
    },
    {
      "cell_type": "code",
      "execution_count": null,
      "metadata": {
        "id": "yVOPS-V3tYHZ",
        "cellView": "form"
      },
      "outputs": [],
      "source": [
        "# @title Load parcellated, connectivity matrices as our features, X\n",
        "import numpy as np\n",
        "import pickle as pkl\n",
        "from nilearn.connectome import ConnectivityMeasure\n",
        "\n",
        "'''\n",
        "Load the connectivity matrices\n",
        "Note: each connectivity matrix (sample) was derived using the NiftiLabelsMasker\n",
        "and ConnectivityMeasure [with full Pearson's correlation] from nilearn and each\n",
        "sample was also standardized by z-score\n",
        "[i.e., zero mean scaled to unit variance w.r.t. sample std]\n",
        "'''\n",
        "\n",
        "data_path = './ABIDE_240.npz'\n",
        "# Load the data\n",
        "data = np.load(data_path)\n",
        "\n",
        "# Accessing the arrays\n",
        "connectomes = data['features']\n",
        "y_abide = data['labels']\n",
        "\n",
        "print(\"Data loaded from NPZ file.\")\n",
        "\n",
        "# Check the number of subject functional scans fetched\n",
        "print(f\"Number of subjects: {len(connectomes)}\")"
      ]
    },
    {
      "cell_type": "code",
      "execution_count": null,
      "metadata": {
        "id": "m-s2tWmyfpIX"
      },
      "outputs": [],
      "source": [
        "from nilearn import plotting\n",
        "from nilearn import datasets\n",
        "\n",
        "# Retrieve AAL brain atlas for parcellation, more info here: https://www.sciencedirect.com/science/article/pii/S1053811901909784\n",
        "parcellations = datasets.fetch_atlas_aal()\n",
        "atlas_filename = parcellations.maps\n",
        "labels = parcellations.labels\n",
        "print(f\"Number of ROIs: {len(labels)}\")"
      ]
    },
    {
      "cell_type": "markdown",
      "source": [
        "## Q1."
      ],
      "metadata": {
        "id": "EVLviv8C5mje"
      }
    },
    {
      "cell_type": "markdown",
      "metadata": {
        "id": "3E4jpX10nFoW"
      },
      "source": [
        "Plot a random connectivity matrix from the dataset.\n",
        "\n",
        "---"
      ]
    },
    {
      "cell_type": "code",
      "execution_count": null,
      "metadata": {
        "id": "rpREL05C4S7_"
      },
      "outputs": [],
      "source": [
        "cm_sample = connectomes[47]\n",
        "print(f\"Connectivity matrix shape: {cm_sample.shape}\")\n",
        "\n",
        "np.fill_diagonal(cm_sample, 0)\n",
        "\n",
        "plotting.plot_matrix(cm_sample, figure=(10, 8),\n",
        "                     labels=range(cm_sample.shape[-1]),\n",
        "                     vmax=0.8, vmin=-0.8, reorder=False)"
      ]
    },
    {
      "cell_type": "markdown",
      "metadata": {
        "id": "PHeuPmXuuOG-"
      },
      "source": [
        "The labels contain diagnostic group each participant is in. It is coded as:\n",
        "\n",
        "*   1 = Autism Spectrum Disorder (ASD)\n",
        "*   2 = Control\n",
        "\n",
        "Let's re-index this to 0=ASD and 1=Control due to zero-indexed systems required for ML and other data processing software."
      ]
    },
    {
      "cell_type": "code",
      "execution_count": null,
      "metadata": {
        "id": "cCuvTsu1uWgc"
      },
      "outputs": [],
      "source": [
        "from collections import Counter\n",
        "\n",
        "# Adjust labels to start from 0\n",
        "y_abide = y_abide - 1\n",
        "\n",
        "# Print label classes and counts\n",
        "print(Counter(y_abide))"
      ]
    },
    {
      "cell_type": "markdown",
      "metadata": {
        "id": "mDt1B2c_LU8Q"
      },
      "source": [
        "Now, you're ready to prepare the data for machine learning or statistical analysis.\n",
        "\n",
        "Note: If you are interested in using graph neural networks, feel free to use the below PyG starter code to create your custom PyG Dataset. Check the assignment description for links to related tutorials.\n",
        "\n",
        "---"
      ]
    },
    {
      "cell_type": "code",
      "execution_count": null,
      "metadata": {
        "id": "hetxZvDwM8iR",
        "cellView": "form"
      },
      "outputs": [],
      "source": [
        "# @title [GraphML ONLY] Create custom PyG ConnectomeDataset\n",
        "import torch\n",
        "from torch_geometric.data import Data, Dataset\n",
        "from torch_geometric.utils import dense_to_sparse\n",
        "\n",
        "class ConnectomeDataset(Dataset):\n",
        "    def __init__(self, connectivity_matrices, labels, task=\"classification\", transform=None, pre_transform=None):\n",
        "        super(ConnectomeDataset, self).__init__(None, transform, pre_transform)\n",
        "        self.connectivity_matrices = connectivity_matrices\n",
        "        self.labels = labels\n",
        "        self.task = task\n",
        "\n",
        "    def len(self):\n",
        "        return len(self.connectivity_matrices)\n",
        "\n",
        "    def get(self, idx):\n",
        "        # Convert the connectivity matrix to edge index and edge attributes\n",
        "        connectivity_matrix = torch.tensor(self.connectivity_matrices[idx])\n",
        "        edge_index, edge_attr = dense_to_sparse(connectivity_matrix)\n",
        "\n",
        "        # Create a data object\n",
        "        data = Data(edge_index=edge_index, edge_attr=edge_attr)\n",
        "        data.x = connectivity_matrix.to(torch.float)\n",
        "        if self.task == \"classification\":\n",
        "          data.y = torch.tensor([self.labels[idx]-1], dtype=torch.long) # make labels start at 0\n",
        "        else:\n",
        "          data.y = torch.tensor([self.labels[idx]], dtype=torch.float)\n",
        "        return data"
      ]
    },
    {
      "cell_type": "markdown",
      "source": [
        "### Example - GraphML Classification"
      ],
      "metadata": {
        "id": "dXX-GuaFU5NY"
      }
    },
    {
      "cell_type": "code",
      "execution_count": null,
      "metadata": {
        "id": "AB1Fd0CQNTRt"
      },
      "outputs": [],
      "source": [
        "import torch\n",
        "import torch_geometric.transforms as T\n",
        "import torch.nn.functional as F\n",
        "\n",
        "from torch_geometric.nn import GCNConv, global_mean_pool\n",
        "from torch_geometric.loader import DataLoader\n",
        "\n",
        "# Instantiate the dataset\n",
        "abide_dataset = ConnectomeDataset(connectomes, y_abide)\n",
        "\n",
        "loader = DataLoader(abide_dataset, batch_size=32, shuffle=True)\n",
        "\n",
        "print(f'Number of graphs: {len(abide_dataset)}')\n",
        "print(\"Number of node features: \", abide_dataset.num_node_features)\n",
        "print(f'Number of edge features: {abide_dataset.num_edge_features}')\n",
        "\n",
        "num_classes = 2\n",
        "\n",
        "# TO DO: Define a Graph Neural Network model\n",
        "#..."
      ]
    },
    {
      "cell_type": "markdown",
      "source": [
        "## Q2."
      ],
      "metadata": {
        "id": "qtgTMnc_JFGM"
      }
    },
    {
      "cell_type": "markdown",
      "source": [
        "### Example - Graph Network Metrics"
      ],
      "metadata": {
        "id": "U7VfsCZRJiEL"
      }
    },
    {
      "cell_type": "code",
      "source": [
        "import numpy as np\n",
        "import matplotlib.pyplot as plt\n",
        "\n",
        "# 'cm_sample' is a random connectome from our dataset\n",
        "weights = cm_sample[np.triu_indices_from(cm_sample, k=1)]  # Extract upper triangle to avoid duplication\n",
        "\n",
        "# Plotting the distribution of weights\n",
        "plt.hist(weights, bins=30, alpha=0.7)\n",
        "plt.title(\"Distribution of Edge Weights\")\n",
        "plt.xlabel(\"Weight (Correlation Value)\")\n",
        "plt.ylabel(\"Frequency\")\n",
        "plt.show()\n"
      ],
      "metadata": {
        "id": "0PoKW_nsJEZD"
      },
      "execution_count": null,
      "outputs": []
    },
    {
      "cell_type": "markdown",
      "source": [
        "### Example - Network Community Detection"
      ],
      "metadata": {
        "id": "fBBah-dJLUL7"
      }
    },
    {
      "cell_type": "code",
      "source": [
        "import networkx as nx\n",
        "import numpy as np\n",
        "import community.community_louvain as community_louvain\n",
        "import matplotlib.pyplot as plt\n",
        "\n",
        "from matplotlib import colormaps\n",
        "\n",
        "'''Note: networkx expects non-negative edge weights for community detection;\n",
        "convert connectome edge weights to absolute value (changes edge weight\n",
        "information to strength only and not whether positively or negatively\n",
        "correlated.)\n",
        "'''\n",
        "# Find the absolute maximum value in the connectome for scaling\n",
        "abs_cm_sample = np.abs(cm_sample)\n",
        "\n",
        "G = nx.from_numpy_array(abs_cm_sample)\n",
        "\n",
        "# Use the Louvain method for community detection\n",
        "partition = community_louvain.best_partition(G, weight='weight')\n",
        "\n",
        "# Visualize the communities\n",
        "pos = nx.spring_layout(G)  # Positioning of the nodes\n",
        "cmap = colormaps['viridis']\n",
        "\n",
        "for com in set(partition.values()):\n",
        "    list_nodes = [nodes for nodes in partition.keys() if partition[nodes] == com]\n",
        "    nx.draw_networkx_nodes(G, pos, list_nodes, node_size=20,\n",
        "                           node_color=[cmap(com / (max(partition.values()) + 1))])\n",
        "\n",
        "nx.draw_networkx_edges(G, pos, alpha=0.5)\n",
        "plt.show()\n"
      ],
      "metadata": {
        "id": "FpuWInrRLcYj"
      },
      "execution_count": null,
      "outputs": []
    }
  ],
  "metadata": {
    "colab": {
      "provenance": [],
      "machine_shape": "hm",
      "gpuType": "V100"
    },
    "kernelspec": {
      "display_name": "Python 3",
      "name": "python3"
    },
    "language_info": {
      "name": "python"
    },
    "accelerator": "GPU"
  },
  "nbformat": 4,
  "nbformat_minor": 0
}